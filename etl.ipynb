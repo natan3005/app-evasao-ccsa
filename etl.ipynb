{
 "cells": [
  {
   "cell_type": "code",
   "execution_count": 154,
   "metadata": {},
   "outputs": [],
   "source": [
    "import glob \n",
    "from pandas import read_csv, concat\n",
    "\n",
    "#diretório\n",
    "input_dir = r\"C:\\Users\\Natan\\Documents\\TPAD2\\dados\""
   ]
  },
  {
   "cell_type": "markdown",
   "metadata": {},
   "source": [
    "##### **Listando os arquivos** #####"
   ]
  },
  {
   "cell_type": "code",
   "execution_count": 155,
   "metadata": {},
   "outputs": [],
   "source": [
    "arquivos_ies = glob.glob(r\"C:\\Users\\Natan\\Documents\\TPAD2\\dados/*IES*.CSV\")\n",
    "arquivos_cursos = glob.glob(r\"C:\\Users\\Natan\\Documents\\TPAD2\\dados/*Cadastro_Cursos*.CSV\")"
   ]
  },
  {
   "cell_type": "markdown",
   "metadata": {},
   "source": [
    "##### **Filtrando colunas** #####"
   ]
  },
  {
   "cell_type": "code",
   "execution_count": 156,
   "metadata": {},
   "outputs": [],
   "source": [
    "colunas_ies = ['CO_IES','SG_IES','TP_CATEGORIA_ADMINISTRATIVA','TP_ORGANIZACAO_ACADEMICA']\n",
    "\n",
    "#Diurno\n",
    "colunas_cadastro = ['NU_ANO_CENSO','SG_UF','CO_IES','QT_ING_DIURNO','QT_CONC_DIURNO','TP_ORGANIZACAO_ACADEMICA','TP_CATEGORIA_ADMINISTRATIVA','NO_CINE_ROTULO']\n",
    "#Noturno\n",
    "colunas_cadastro_noturno = ['NU_ANO_CENSO','SG_UF','CO_IES','QT_ING_NOTURNO','QT_CONC_NOTURNO','TP_ORGANIZACAO_ACADEMICA','TP_CATEGORIA_ADMINISTRATIVA','NO_CINE_ROTULO']"
   ]
  },
  {
   "cell_type": "markdown",
   "metadata": {},
   "source": [
    "##### **Leitura dos dados e Correção de tipagem** #####"
   ]
  },
  {
   "cell_type": "code",
   "execution_count": 157,
   "metadata": {},
   "outputs": [],
   "source": [
    "#Arquivos da cadastro cursos - Diurno\n",
    "tabela_cadastro = []\n",
    "\n",
    "for arquivo in arquivos_cursos:\n",
    "    tabela_cadastro.append(read_csv(arquivo, sep=';', encoding='ISO 8859-1',usecols=colunas_cadastro)\n",
    "    .rename(columns = {'NU_ANO_CENSO':'ano'})\n",
    "    .query('TP_ORGANIZACAO_ACADEMICA==1 & TP_CATEGORIA_ADMINISTRATIVA==1')\n",
    "    .groupby(['ano', 'CO_IES','NO_CINE_ROTULO']).agg(\n",
    "        ingressantes_diurno = ('QT_ING_DIURNO', 'sum'),\n",
    "        concluintes_diurno =('QT_CONC_DIURNO', 'sum')\n",
    "        #nome_curso=('NO_CINE_ROTULO','max'))\n",
    "    ))\n",
    "\n",
    "cdd = concat(tabela_cadastro).reset_index()\n",
    "\n",
    "#Convertendo p/ inteiros\n",
    "cdd['ingressantes_diurno'] = cdd['ingressantes_diurno'].astype(int)\n",
    "cdd['concluintes_diurno'] = cdd['concluintes_diurno'].astype(int)\n",
    "\n",
    "#Arquivos da cadastro ies \n",
    "tabela_ies = []\n",
    "\n",
    "for arquivo in arquivos_ies:\n",
    "    tabela_ies.append(read_csv(arquivo, sep=';', encoding='ISO 8859-1',usecols=colunas_ies)\n",
    "    .query('TP_ORGANIZACAO_ACADEMICA==1 & TP_CATEGORIA_ADMINISTRATIVA==1')\n",
    "    )\n",
    "\n",
    "ies = concat(tabela_ies)\n",
    "\n",
    "####################################################################\n",
    "\n",
    "#Arquivos da cadastro cursos - Noturno\n",
    "tabela_cadastro_noturno = []\n",
    "\n",
    "for arquivo2 in arquivos_cursos:\n",
    "    tabela_cadastro_noturno.append(read_csv(arquivo2, sep=';', encoding='ISO 8859-1',usecols=colunas_cadastro_noturno)\n",
    "    .rename(columns = {'NU_ANO_CENSO':'ano'})\n",
    "    .query('TP_ORGANIZACAO_ACADEMICA==1 & TP_CATEGORIA_ADMINISTRATIVA==1')\n",
    "    .groupby(['ano', 'CO_IES','NO_CINE_ROTULO']).agg(ingressantes_noturno = ('QT_ING_NOTURNO', 'sum'), concluintes_noturno =('QT_CONC_NOTURNO', 'sum'))\n",
    "    )\n",
    "\n",
    "cdn = concat(tabela_cadastro_noturno).reset_index()\n",
    "\n",
    "#Convertendo p/ inteiros\n",
    "cdn['ingressantes_noturno'] = cdn['ingressantes_noturno'].astype(int)\n",
    "cdn['concluintes_noturno'] = cdn['concluintes_noturno'].astype(int)"
   ]
  },
  {
   "cell_type": "markdown",
   "metadata": {},
   "source": [
    "##### **Agrupando os dados por curso e ano, nessa ordem (apenas UFPB)** #####"
   ]
  },
  {
   "cell_type": "code",
   "execution_count": 197,
   "metadata": {},
   "outputs": [],
   "source": [
    "####################################################################\n",
    "\n",
    "#Evasão - Diurno *dfd = dataframe diurno\n",
    "dfd = ies.merge(cdd, on='CO_IES', how='inner')\n",
    "dfd = dfd.loc[dfd['SG_IES']=='UFPB']\n",
    "\n",
    "dfd = (dfd\n",
    ".groupby(['NO_CINE_ROTULO','ano']).agg(\n",
    "    ingressantes_diurno=('ingressantes_diurno','sum'),\n",
    "    concluintes_diurno=('concluintes_diurno','sum')\n",
    ").reset_index())\n",
    "\n",
    "####################################################################\n",
    "\n",
    "#Evasão - Noturno *dfn = dataframe noturno\n",
    "dfn = ies.merge(cdn, on='CO_IES', how='inner')\n",
    "dfn = dfn.loc[dfn['SG_IES']=='UFPB']\n",
    "\n",
    "dfn = (dfn\n",
    ".groupby(['NO_CINE_ROTULO','ano']).agg(\n",
    "    ingressantes_noturno=('ingressantes_noturno','sum'),\n",
    "    concluintes_noturno=('concluintes_noturno','sum')\n",
    ").reset_index())"
   ]
  },
  {
   "cell_type": "markdown",
   "metadata": {},
   "source": [
    "##### **Filtrando os cursos do CCSA que possuem dados disponíveis** #####"
   ]
  },
  {
   "cell_type": "code",
   "execution_count": 207,
   "metadata": {},
   "outputs": [],
   "source": [
    "#Diurnos\n",
    "adm_dia   = dfd.loc[dfd['NO_CINE_ROTULO']=='Administração']\n",
    "econo_dia = dfd.loc[dfd['NO_CINE_ROTULO']=='Economia']\n",
    "arqi_dia  = dfd.loc[dfd['NO_CINE_ROTULO']=='Arquivologia']\n",
    "bibl_dia  = dfd.loc[dfd['NO_CINE_ROTULO']=='Biblioteconomia']\n",
    "atua_dia  = dfd.loc[dfd['NO_CINE_ROTULO']=='Ciências atuariais']\n",
    "cont_dia  = dfd.loc[dfd['NO_CINE_ROTULO']=='Contabilidade']\n",
    "gest_dia  = dfd.loc[dfd['NO_CINE_ROTULO']=='Gestão pública']\n",
    "rela_dia  = dfd.loc[dfd['NO_CINE_ROTULO']=='Relações internacionais']\n",
    "\n",
    "#Noturnos\n",
    "adm_noi   = dfn.loc[dfn['NO_CINE_ROTULO']=='Administração']\n",
    "econo_noi = dfn.loc[dfn['NO_CINE_ROTULO']=='Economia']\n",
    "arqi_noi  = dfn.loc[dfn['NO_CINE_ROTULO']=='Arquivologia']\n",
    "bibl_noi  = dfn.loc[dfn['NO_CINE_ROTULO']=='Biblioteconomia']\n",
    "atua_noi  = dfn.loc[dfn['NO_CINE_ROTULO']=='Ciências atuariais']\n",
    "cont_noi  = dfn.loc[dfn['NO_CINE_ROTULO']=='Contabilidade']\n",
    "gest_noi  = dfn.loc[dfn['NO_CINE_ROTULO']=='Gestão pública']\n",
    "rela_noi  = dfn.loc[dfn['NO_CINE_ROTULO']=='Relações internacionais']"
   ]
  },
  {
   "cell_type": "markdown",
   "metadata": {},
   "source": [
    "##### **Comparando dois horários de um curso** #####"
   ]
  },
  {
   "cell_type": "code",
   "execution_count": 208,
   "metadata": {},
   "outputs": [],
   "source": [
    "adm_dia = (adm_dia.groupby(['NO_CINE_ROTULO','ano']).agg(\n",
    "    ingressantes_diurno=('ingressantes_diurno','sum'),\n",
    "    concluintes_diurno=('concluintes_diurno','sum')\n",
    ").assign(\n",
    "    evasão = lambda x: (1-(x.concluintes_diurno/x.ingressantes_diurno.shift(5)))*100\n",
    "))\n",
    "\n",
    "adm_noi = (adm_noi.groupby(['NO_CINE_ROTULO','ano']).agg(\n",
    "    ingressantes_noturno=('ingressantes_noturno','sum'),\n",
    "    concluintes_noturno=('concluintes_noturno','sum')\n",
    ").assign(\n",
    "    evasão = lambda x: (1-(x.concluintes_noturno/x.ingressantes_noturno.shift(5)))*100\n",
    "))"
   ]
  },
  {
   "cell_type": "code",
   "execution_count": 210,
   "metadata": {},
   "outputs": [],
   "source": [
    "def consulta_curso():\n",
    "    curso = str(input('Digite a sigla do curso de interesse: '))\n",
    "    curso_dia = curso+'_dia'\n",
    "    curso_noite = curso+'_noi' \n",
    "    print(curso_dia, curso_noite)"
   ]
  },
  {
   "cell_type": "code",
   "execution_count": 211,
   "metadata": {},
   "outputs": [
    {
     "name": "stdout",
     "output_type": "stream",
     "text": [
      "adm_dia adm_noi\n"
     ]
    }
   ],
   "source": [
    "consulta_curso()"
   ]
  },
  {
   "cell_type": "code",
   "execution_count": 215,
   "metadata": {},
   "outputs": [],
   "source": [
    "econo_dia = (econo_dia.groupby(['NO_CINE_ROTULO','ano']).agg(\n",
    "    ingressantes_diurno=('ingressantes_diurno','sum'),\n",
    "    concluintes_diurno=('concluintes_diurno','sum')\n",
    ").assign(\n",
    "    evasão = lambda x: (1-(x.concluintes_diurno/x.ingressantes_diurno.shift(5)))*100\n",
    "))\n",
    "\n",
    "econo_noi = (econo_noi.groupby(['NO_CINE_ROTULO','ano']).agg(\n",
    "    ingressantes_noturno=('ingressantes_noturno','sum'),\n",
    "    concluintes_noturno=('concluintes_noturno','sum')\n",
    ").assign(\n",
    "    evasão = lambda x: (1-(x.concluintes_noturno/x.ingressantes_noturno.shift(5)))*100\n",
    "))"
   ]
  },
  {
   "cell_type": "code",
   "execution_count": 216,
   "metadata": {},
   "outputs": [
    {
     "data": {
      "text/html": [
       "<div>\n",
       "<style scoped>\n",
       "    .dataframe tbody tr th:only-of-type {\n",
       "        vertical-align: middle;\n",
       "    }\n",
       "\n",
       "    .dataframe tbody tr th {\n",
       "        vertical-align: top;\n",
       "    }\n",
       "\n",
       "    .dataframe thead th {\n",
       "        text-align: right;\n",
       "    }\n",
       "</style>\n",
       "<table border=\"1\" class=\"dataframe\">\n",
       "  <thead>\n",
       "    <tr style=\"text-align: right;\">\n",
       "      <th></th>\n",
       "      <th></th>\n",
       "      <th>ingressantes_diurno</th>\n",
       "      <th>concluintes_diurno</th>\n",
       "      <th>evasão</th>\n",
       "    </tr>\n",
       "    <tr>\n",
       "      <th>NO_CINE_ROTULO</th>\n",
       "      <th>ano</th>\n",
       "      <th></th>\n",
       "      <th></th>\n",
       "      <th></th>\n",
       "    </tr>\n",
       "  </thead>\n",
       "  <tbody>\n",
       "    <tr>\n",
       "      <th rowspan=\"12\" valign=\"top\">Economia</th>\n",
       "      <th>2009</th>\n",
       "      <td>0</td>\n",
       "      <td>0</td>\n",
       "      <td>NaN</td>\n",
       "    </tr>\n",
       "    <tr>\n",
       "      <th>2010</th>\n",
       "      <td>1164</td>\n",
       "      <td>360</td>\n",
       "      <td>NaN</td>\n",
       "    </tr>\n",
       "    <tr>\n",
       "      <th>2011</th>\n",
       "      <td>1152</td>\n",
       "      <td>384</td>\n",
       "      <td>NaN</td>\n",
       "    </tr>\n",
       "    <tr>\n",
       "      <th>2012</th>\n",
       "      <td>1140</td>\n",
       "      <td>288</td>\n",
       "      <td>NaN</td>\n",
       "    </tr>\n",
       "    <tr>\n",
       "      <th>2013</th>\n",
       "      <td>852</td>\n",
       "      <td>360</td>\n",
       "      <td>NaN</td>\n",
       "    </tr>\n",
       "    <tr>\n",
       "      <th>2014</th>\n",
       "      <td>1020</td>\n",
       "      <td>204</td>\n",
       "      <td>-inf</td>\n",
       "    </tr>\n",
       "    <tr>\n",
       "      <th>2015</th>\n",
       "      <td>984</td>\n",
       "      <td>276</td>\n",
       "      <td>76.288660</td>\n",
       "    </tr>\n",
       "    <tr>\n",
       "      <th>2016</th>\n",
       "      <td>948</td>\n",
       "      <td>336</td>\n",
       "      <td>70.833333</td>\n",
       "    </tr>\n",
       "    <tr>\n",
       "      <th>2017</th>\n",
       "      <td>1032</td>\n",
       "      <td>432</td>\n",
       "      <td>62.105263</td>\n",
       "    </tr>\n",
       "    <tr>\n",
       "      <th>2018</th>\n",
       "      <td>852</td>\n",
       "      <td>240</td>\n",
       "      <td>71.830986</td>\n",
       "    </tr>\n",
       "    <tr>\n",
       "      <th>2019</th>\n",
       "      <td>900</td>\n",
       "      <td>312</td>\n",
       "      <td>69.411765</td>\n",
       "    </tr>\n",
       "    <tr>\n",
       "      <th>2020</th>\n",
       "      <td>1044</td>\n",
       "      <td>132</td>\n",
       "      <td>86.585366</td>\n",
       "    </tr>\n",
       "  </tbody>\n",
       "</table>\n",
       "</div>"
      ],
      "text/plain": [
       "                     ingressantes_diurno  concluintes_diurno     evasão\n",
       "NO_CINE_ROTULO ano                                                     \n",
       "Economia       2009                    0                   0        NaN\n",
       "               2010                 1164                 360        NaN\n",
       "               2011                 1152                 384        NaN\n",
       "               2012                 1140                 288        NaN\n",
       "               2013                  852                 360        NaN\n",
       "               2014                 1020                 204       -inf\n",
       "               2015                  984                 276  76.288660\n",
       "               2016                  948                 336  70.833333\n",
       "               2017                 1032                 432  62.105263\n",
       "               2018                  852                 240  71.830986\n",
       "               2019                  900                 312  69.411765\n",
       "               2020                 1044                 132  86.585366"
      ]
     },
     "execution_count": 216,
     "metadata": {},
     "output_type": "execute_result"
    }
   ],
   "source": [
    "econo_dia"
   ]
  },
  {
   "cell_type": "code",
   "execution_count": 217,
   "metadata": {},
   "outputs": [
    {
     "data": {
      "text/html": [
       "<div>\n",
       "<style scoped>\n",
       "    .dataframe tbody tr th:only-of-type {\n",
       "        vertical-align: middle;\n",
       "    }\n",
       "\n",
       "    .dataframe tbody tr th {\n",
       "        vertical-align: top;\n",
       "    }\n",
       "\n",
       "    .dataframe thead th {\n",
       "        text-align: right;\n",
       "    }\n",
       "</style>\n",
       "<table border=\"1\" class=\"dataframe\">\n",
       "  <thead>\n",
       "    <tr style=\"text-align: right;\">\n",
       "      <th></th>\n",
       "      <th></th>\n",
       "      <th>ingressantes_noturno</th>\n",
       "      <th>concluintes_noturno</th>\n",
       "      <th>evasão</th>\n",
       "    </tr>\n",
       "    <tr>\n",
       "      <th>NO_CINE_ROTULO</th>\n",
       "      <th>ano</th>\n",
       "      <th></th>\n",
       "      <th></th>\n",
       "      <th></th>\n",
       "    </tr>\n",
       "  </thead>\n",
       "  <tbody>\n",
       "    <tr>\n",
       "      <th rowspan=\"12\" valign=\"top\">Economia</th>\n",
       "      <th>2009</th>\n",
       "      <td>0</td>\n",
       "      <td>0</td>\n",
       "      <td>NaN</td>\n",
       "    </tr>\n",
       "    <tr>\n",
       "      <th>2010</th>\n",
       "      <td>1248</td>\n",
       "      <td>300</td>\n",
       "      <td>NaN</td>\n",
       "    </tr>\n",
       "    <tr>\n",
       "      <th>2011</th>\n",
       "      <td>1176</td>\n",
       "      <td>216</td>\n",
       "      <td>NaN</td>\n",
       "    </tr>\n",
       "    <tr>\n",
       "      <th>2012</th>\n",
       "      <td>1152</td>\n",
       "      <td>228</td>\n",
       "      <td>NaN</td>\n",
       "    </tr>\n",
       "    <tr>\n",
       "      <th>2013</th>\n",
       "      <td>1056</td>\n",
       "      <td>204</td>\n",
       "      <td>NaN</td>\n",
       "    </tr>\n",
       "    <tr>\n",
       "      <th>2014</th>\n",
       "      <td>1020</td>\n",
       "      <td>168</td>\n",
       "      <td>-inf</td>\n",
       "    </tr>\n",
       "    <tr>\n",
       "      <th>2015</th>\n",
       "      <td>984</td>\n",
       "      <td>96</td>\n",
       "      <td>92.307692</td>\n",
       "    </tr>\n",
       "    <tr>\n",
       "      <th>2016</th>\n",
       "      <td>900</td>\n",
       "      <td>276</td>\n",
       "      <td>76.530612</td>\n",
       "    </tr>\n",
       "    <tr>\n",
       "      <th>2017</th>\n",
       "      <td>1116</td>\n",
       "      <td>180</td>\n",
       "      <td>84.375000</td>\n",
       "    </tr>\n",
       "    <tr>\n",
       "      <th>2018</th>\n",
       "      <td>876</td>\n",
       "      <td>192</td>\n",
       "      <td>81.818182</td>\n",
       "    </tr>\n",
       "    <tr>\n",
       "      <th>2019</th>\n",
       "      <td>816</td>\n",
       "      <td>156</td>\n",
       "      <td>84.705882</td>\n",
       "    </tr>\n",
       "    <tr>\n",
       "      <th>2020</th>\n",
       "      <td>1068</td>\n",
       "      <td>72</td>\n",
       "      <td>92.682927</td>\n",
       "    </tr>\n",
       "  </tbody>\n",
       "</table>\n",
       "</div>"
      ],
      "text/plain": [
       "                     ingressantes_noturno  concluintes_noturno     evasão\n",
       "NO_CINE_ROTULO ano                                                       \n",
       "Economia       2009                     0                    0        NaN\n",
       "               2010                  1248                  300        NaN\n",
       "               2011                  1176                  216        NaN\n",
       "               2012                  1152                  228        NaN\n",
       "               2013                  1056                  204        NaN\n",
       "               2014                  1020                  168       -inf\n",
       "               2015                   984                   96  92.307692\n",
       "               2016                   900                  276  76.530612\n",
       "               2017                  1116                  180  84.375000\n",
       "               2018                   876                  192  81.818182\n",
       "               2019                   816                  156  84.705882\n",
       "               2020                  1068                   72  92.682927"
      ]
     },
     "execution_count": 217,
     "metadata": {},
     "output_type": "execute_result"
    }
   ],
   "source": [
    "econo_noi"
   ]
  },
  {
   "cell_type": "code",
   "execution_count": null,
   "metadata": {},
   "outputs": [],
   "source": []
  }
 ],
 "metadata": {
  "kernelspec": {
   "display_name": "Python 3.10.4 64-bit",
   "language": "python",
   "name": "python3"
  },
  "language_info": {
   "codemirror_mode": {
    "name": "ipython",
    "version": 3
   },
   "file_extension": ".py",
   "mimetype": "text/x-python",
   "name": "python",
   "nbconvert_exporter": "python",
   "pygments_lexer": "ipython3",
   "version": "3.10.4"
  },
  "orig_nbformat": 4,
  "vscode": {
   "interpreter": {
    "hash": "3adffc14717c77f806e1f7b1b4a3821d5acdcf53694294b2e976d830ba088ed7"
   }
  }
 },
 "nbformat": 4,
 "nbformat_minor": 2
}
