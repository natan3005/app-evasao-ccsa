{
 "cells": [
  {
   "cell_type": "code",
   "execution_count": 62,
   "metadata": {},
   "outputs": [],
   "source": [
    "import glob \n",
    "from pandas import read_csv, concat, DataFrame\n",
    "\n",
    "#diretório\n",
    "input_dir = r\"C:\\Users\\Natan\\Documents\\TPAD2\\dados\""
   ]
  },
  {
   "cell_type": "markdown",
   "metadata": {},
   "source": [
    "##### **Listando os arquivos** #####"
   ]
  },
  {
   "cell_type": "code",
   "execution_count": 63,
   "metadata": {},
   "outputs": [],
   "source": [
    "arquivos_ies = glob.glob(r\"C:\\Users\\Natan\\Documents\\TPAD2\\dados/*IES*.CSV\")\n",
    "arquivos_cursos = glob.glob(r\"C:\\Users\\Natan\\Documents\\TPAD2\\dados/*Cadastro_Cursos*.CSV\")"
   ]
  },
  {
   "cell_type": "markdown",
   "metadata": {},
   "source": [
    "##### **Filtrando colunas** #####"
   ]
  },
  {
   "cell_type": "code",
   "execution_count": 64,
   "metadata": {},
   "outputs": [],
   "source": [
    "colunas_ies = ['CO_IES','SG_IES','TP_CATEGORIA_ADMINISTRATIVA','TP_ORGANIZACAO_ACADEMICA']\n",
    "\n",
    "#Diurno\n",
    "colunas_cadastro = ['NU_ANO_CENSO','SG_UF','CO_IES','QT_ING_DIURNO','QT_CONC_DIURNO','TP_ORGANIZACAO_ACADEMICA','TP_CATEGORIA_ADMINISTRATIVA','NO_CINE_ROTULO']\n",
    "#Noturno\n",
    "colunas_cadastro_noturno = ['NU_ANO_CENSO','SG_UF','CO_IES','QT_ING_NOTURNO','QT_CONC_NOTURNO','TP_ORGANIZACAO_ACADEMICA','TP_CATEGORIA_ADMINISTRATIVA','NO_CINE_ROTULO']"
   ]
  },
  {
   "cell_type": "markdown",
   "metadata": {},
   "source": [
    "##### **Leitura dos dados e Correção de tipagem** #####"
   ]
  },
  {
   "cell_type": "code",
   "execution_count": 65,
   "metadata": {},
   "outputs": [],
   "source": [
    "#Arquivos da cadastro cursos - Diurno\n",
    "tabela_cadastro = []\n",
    "\n",
    "for arquivo in arquivos_cursos:\n",
    "    tabela_cadastro.append(read_csv(arquivo, sep=';', encoding='ISO 8859-1',usecols=colunas_cadastro)\n",
    "    .rename(columns = {'NU_ANO_CENSO':'ano'})\n",
    "    .query('TP_ORGANIZACAO_ACADEMICA==1 & TP_CATEGORIA_ADMINISTRATIVA==1')\n",
    "    .groupby(['ano', 'CO_IES','NO_CINE_ROTULO']).agg(\n",
    "        ingressantes_diurno = ('QT_ING_DIURNO', 'sum'),\n",
    "        concluintes_diurno =('QT_CONC_DIURNO', 'sum')\n",
    "        #nome_curso=('NO_CINE_ROTULO','max'))\n",
    "    ))\n",
    "\n",
    "cdd = concat(tabela_cadastro).reset_index()\n",
    "\n",
    "#Convertendo p/ inteiros\n",
    "cdd['ingressantes_diurno'] = cdd['ingressantes_diurno'].astype(int)\n",
    "cdd['concluintes_diurno'] = cdd['concluintes_diurno'].astype(int)\n",
    "\n",
    "#Arquivos da cadastro ies \n",
    "tabela_ies = []\n",
    "\n",
    "for arquivo in arquivos_ies:\n",
    "    tabela_ies.append(read_csv(arquivo, sep=';', encoding='ISO 8859-1',usecols=colunas_ies)\n",
    "    .query('TP_ORGANIZACAO_ACADEMICA==1 & TP_CATEGORIA_ADMINISTRATIVA==1')\n",
    "    )\n",
    "\n",
    "ies = concat(tabela_ies)\n",
    "\n",
    "####################################################################\n",
    "\n",
    "#Arquivos da cadastro cursos - Noturno\n",
    "tabela_cadastro_noturno = []\n",
    "\n",
    "for arquivo2 in arquivos_cursos:\n",
    "    tabela_cadastro_noturno.append(read_csv(arquivo2, sep=';', encoding='ISO 8859-1',usecols=colunas_cadastro_noturno)\n",
    "    .rename(columns = {'NU_ANO_CENSO':'ano'})\n",
    "    .query('TP_ORGANIZACAO_ACADEMICA==1 & TP_CATEGORIA_ADMINISTRATIVA==1')\n",
    "    .groupby(['ano', 'CO_IES','NO_CINE_ROTULO']).agg(ingressantes_noturno = ('QT_ING_NOTURNO', 'sum'), concluintes_noturno =('QT_CONC_NOTURNO', 'sum'))\n",
    "    )\n",
    "\n",
    "cdn = concat(tabela_cadastro_noturno).reset_index()\n",
    "\n",
    "#Convertendo p/ inteiros\n",
    "cdn['ingressantes_noturno'] = cdn['ingressantes_noturno'].astype(int)\n",
    "cdn['concluintes_noturno'] = cdn['concluintes_noturno'].astype(int)"
   ]
  },
  {
   "cell_type": "markdown",
   "metadata": {},
   "source": [
    "##### **Agrupando os dados por curso e ano, nessa ordem (apenas UFPB)** #####"
   ]
  },
  {
   "cell_type": "code",
   "execution_count": 66,
   "metadata": {},
   "outputs": [],
   "source": [
    "####################################################################\n",
    "\n",
    "#Evasão - Diurno *dfd = dataframe diurno\n",
    "dfd = ies.merge(cdd, on='CO_IES', how='inner')\n",
    "dfd = dfd.loc[dfd['SG_IES']=='UFPB']\n",
    "\n",
    "dfd = (dfd\n",
    ".groupby(['NO_CINE_ROTULO','ano']).agg(\n",
    "    ingressantes=('ingressantes_diurno','sum'),\n",
    "    concluintes=('concluintes_diurno','sum')\n",
    ").reset_index())\n",
    "\n",
    "####################################################################\n",
    "\n",
    "#Evasão - Noturno *dfn = dataframe noturno\n",
    "dfn = ies.merge(cdn, on='CO_IES', how='inner')\n",
    "dfn = dfn.loc[dfn['SG_IES']=='UFPB']\n",
    "\n",
    "dfn = (dfn\n",
    ".groupby(['NO_CINE_ROTULO','ano']).agg(\n",
    "    ingressantes=('ingressantes_noturno','sum'),\n",
    "    concluintes=('concluintes_noturno','sum')\n",
    ").reset_index())"
   ]
  },
  {
   "cell_type": "markdown",
   "metadata": {},
   "source": [
    "##### **Cursos CCSA (P/ fins de consulta)** #####"
   ]
  },
  {
   "cell_type": "code",
   "execution_count": 67,
   "metadata": {},
   "outputs": [
    {
     "data": {
      "text/plain": [
       "'Relações internacionais'"
      ]
     },
     "execution_count": 67,
     "metadata": {},
     "output_type": "execute_result"
    }
   ],
   "source": [
    "\n",
    "'Administração'\n",
    "'Economia'\n",
    "'Arquivologia'     #só noturno\n",
    "'Biblioteconomia'  #só noturno\n",
    "'Ciências atuariais'\n",
    "'Contabilidade'\n",
    "'Gestão pública'\n",
    "'Relações internacionais'"
   ]
  },
  {
   "cell_type": "markdown",
   "metadata": {},
   "source": [
    "##### **Função p/ consultar cursos** #####"
   ]
  },
  {
   "cell_type": "code",
   "execution_count": 120,
   "metadata": {},
   "outputs": [],
   "source": [
    "def consulta_curso():\n",
    "    curso = str(input('Digite o nome do curso: '))\n",
    "    turno = str(input('Digite o turno: '))\n",
    "    #df = DataFrame\n",
    "    #df2 = DataFrame\n",
    "    \n",
    "    if turno == 'diurno':\n",
    "        df = DataFrame\n",
    "        df = (dfd.loc[dfd['NO_CINE_ROTULO']==curso]\n",
    "        .groupby(['NO_CINE_ROTULO','ano']).agg(\n",
    "        ingressantes=('ingressantes','sum'),\n",
    "        concluintes=('concluintes','sum')\n",
    "        ).assign(evasão = lambda x: (1-(x.concluintes/x.ingressantes.shift(5)))*100)\n",
    "        .reset_index())\n",
    "        df['turno'] = 'diurno'\n",
    "        return df.loc[df['ano']>2014]\n",
    "        \n",
    "    elif turno == 'noturno':\n",
    "        df = DataFrame\n",
    "        df = (dfn.loc[dfn['NO_CINE_ROTULO']==curso]\n",
    "        .groupby(['NO_CINE_ROTULO','ano']).agg(\n",
    "        ingressantes=('ingressantes','sum'),\n",
    "        concluintes=('concluintes','sum')\n",
    "        ).assign(evasão = lambda x: (1-(x.concluintes/x.ingressantes.shift(5)))*100)\n",
    "        .reset_index())\n",
    "        df['turno'] = 'noturno'\n",
    "        return df.loc[df['ano']>2014]\n",
    "\n",
    "    else:\n",
    "        df = (dfd.loc[dfd['NO_CINE_ROTULO']==curso]\n",
    "        .groupby(['NO_CINE_ROTULO','ano']).agg(\n",
    "        ingressantes=('ingressantes','sum'),\n",
    "        concluintes=('concluintes','sum')\n",
    "        ).assign(evasão = lambda x: (1-(x.concluintes/x.ingressantes.shift(5)))*100)\n",
    "        .reset_index())\n",
    "        df['turno'] = 'diurno'\n",
    "    \n",
    "        df2 = (dfn.loc[dfn['NO_CINE_ROTULO']==curso]\n",
    "        .groupby(['NO_CINE_ROTULO','ano']).agg(\n",
    "        ingressantes=('ingressantes','sum'),\n",
    "        concluintes=('concluintes','sum')\n",
    "        ).assign(evasão = lambda x: (1-(x.concluintes/x.ingressantes.shift(5)))*100)\n",
    "        .reset_index())\n",
    "        df2['turno'] = 'noturno'\n",
    "        df3 = concat([df,df2])\n",
    "        return df3.dropna()"
   ]
  },
  {
   "cell_type": "code",
   "execution_count": 129,
   "metadata": {},
   "outputs": [
    {
     "data": {
      "text/html": [
       "<div>\n",
       "<style scoped>\n",
       "    .dataframe tbody tr th:only-of-type {\n",
       "        vertical-align: middle;\n",
       "    }\n",
       "\n",
       "    .dataframe tbody tr th {\n",
       "        vertical-align: top;\n",
       "    }\n",
       "\n",
       "    .dataframe thead th {\n",
       "        text-align: right;\n",
       "    }\n",
       "</style>\n",
       "<table border=\"1\" class=\"dataframe\">\n",
       "  <thead>\n",
       "    <tr style=\"text-align: right;\">\n",
       "      <th></th>\n",
       "      <th>NO_CINE_ROTULO</th>\n",
       "      <th>ano</th>\n",
       "      <th>ingressantes</th>\n",
       "      <th>concluintes</th>\n",
       "      <th>evasão</th>\n",
       "      <th>turno</th>\n",
       "    </tr>\n",
       "  </thead>\n",
       "  <tbody>\n",
       "    <tr>\n",
       "      <th>5</th>\n",
       "      <td>Gestão pública</td>\n",
       "      <td>2015</td>\n",
       "      <td>336</td>\n",
       "      <td>204</td>\n",
       "      <td>66.666667</td>\n",
       "      <td>diurno</td>\n",
       "    </tr>\n",
       "    <tr>\n",
       "      <th>6</th>\n",
       "      <td>Gestão pública</td>\n",
       "      <td>2016</td>\n",
       "      <td>588</td>\n",
       "      <td>324</td>\n",
       "      <td>47.058824</td>\n",
       "      <td>diurno</td>\n",
       "    </tr>\n",
       "    <tr>\n",
       "      <th>7</th>\n",
       "      <td>Gestão pública</td>\n",
       "      <td>2017</td>\n",
       "      <td>1056</td>\n",
       "      <td>180</td>\n",
       "      <td>70.000000</td>\n",
       "      <td>diurno</td>\n",
       "    </tr>\n",
       "    <tr>\n",
       "      <th>8</th>\n",
       "      <td>Gestão pública</td>\n",
       "      <td>2018</td>\n",
       "      <td>1020</td>\n",
       "      <td>132</td>\n",
       "      <td>77.551020</td>\n",
       "      <td>diurno</td>\n",
       "    </tr>\n",
       "    <tr>\n",
       "      <th>9</th>\n",
       "      <td>Gestão pública</td>\n",
       "      <td>2019</td>\n",
       "      <td>972</td>\n",
       "      <td>84</td>\n",
       "      <td>81.578947</td>\n",
       "      <td>diurno</td>\n",
       "    </tr>\n",
       "    <tr>\n",
       "      <th>10</th>\n",
       "      <td>Gestão pública</td>\n",
       "      <td>2020</td>\n",
       "      <td>1212</td>\n",
       "      <td>12</td>\n",
       "      <td>96.428571</td>\n",
       "      <td>diurno</td>\n",
       "    </tr>\n",
       "    <tr>\n",
       "      <th>5</th>\n",
       "      <td>Gestão pública</td>\n",
       "      <td>2015</td>\n",
       "      <td>528</td>\n",
       "      <td>360</td>\n",
       "      <td>40.000000</td>\n",
       "      <td>noturno</td>\n",
       "    </tr>\n",
       "    <tr>\n",
       "      <th>6</th>\n",
       "      <td>Gestão pública</td>\n",
       "      <td>2016</td>\n",
       "      <td>348</td>\n",
       "      <td>276</td>\n",
       "      <td>54.000000</td>\n",
       "      <td>noturno</td>\n",
       "    </tr>\n",
       "    <tr>\n",
       "      <th>7</th>\n",
       "      <td>Gestão pública</td>\n",
       "      <td>2017</td>\n",
       "      <td>0</td>\n",
       "      <td>168</td>\n",
       "      <td>70.833333</td>\n",
       "      <td>noturno</td>\n",
       "    </tr>\n",
       "    <tr>\n",
       "      <th>8</th>\n",
       "      <td>Gestão pública</td>\n",
       "      <td>2018</td>\n",
       "      <td>0</td>\n",
       "      <td>120</td>\n",
       "      <td>82.142857</td>\n",
       "      <td>noturno</td>\n",
       "    </tr>\n",
       "    <tr>\n",
       "      <th>9</th>\n",
       "      <td>Gestão pública</td>\n",
       "      <td>2019</td>\n",
       "      <td>0</td>\n",
       "      <td>72</td>\n",
       "      <td>85.714286</td>\n",
       "      <td>noturno</td>\n",
       "    </tr>\n",
       "    <tr>\n",
       "      <th>10</th>\n",
       "      <td>Gestão pública</td>\n",
       "      <td>2020</td>\n",
       "      <td>0</td>\n",
       "      <td>0</td>\n",
       "      <td>100.000000</td>\n",
       "      <td>noturno</td>\n",
       "    </tr>\n",
       "  </tbody>\n",
       "</table>\n",
       "</div>"
      ],
      "text/plain": [
       "    NO_CINE_ROTULO   ano  ingressantes  concluintes      evasão    turno\n",
       "5   Gestão pública  2015           336          204   66.666667   diurno\n",
       "6   Gestão pública  2016           588          324   47.058824   diurno\n",
       "7   Gestão pública  2017          1056          180   70.000000   diurno\n",
       "8   Gestão pública  2018          1020          132   77.551020   diurno\n",
       "9   Gestão pública  2019           972           84   81.578947   diurno\n",
       "10  Gestão pública  2020          1212           12   96.428571   diurno\n",
       "5   Gestão pública  2015           528          360   40.000000  noturno\n",
       "6   Gestão pública  2016           348          276   54.000000  noturno\n",
       "7   Gestão pública  2017             0          168   70.833333  noturno\n",
       "8   Gestão pública  2018             0          120   82.142857  noturno\n",
       "9   Gestão pública  2019             0           72   85.714286  noturno\n",
       "10  Gestão pública  2020             0            0  100.000000  noturno"
      ]
     },
     "execution_count": 129,
     "metadata": {},
     "output_type": "execute_result"
    }
   ],
   "source": [
    "consulta_curso()"
   ]
  },
  {
   "cell_type": "code",
   "execution_count": 122,
   "metadata": {},
   "outputs": [],
   "source": [
    "econo = consulta_curso().to_excel('economia.xlsx')"
   ]
  }
 ],
 "metadata": {
  "kernelspec": {
   "display_name": "Python 3.11.1 64-bit",
   "language": "python",
   "name": "python3"
  },
  "language_info": {
   "codemirror_mode": {
    "name": "ipython",
    "version": 3
   },
   "file_extension": ".py",
   "mimetype": "text/x-python",
   "name": "python",
   "nbconvert_exporter": "python",
   "pygments_lexer": "ipython3",
   "version": "3.11.1"
  },
  "orig_nbformat": 4,
  "vscode": {
   "interpreter": {
    "hash": "0358158b1028aa15f19f28051d896ffd5082ab24d7b98afca8fca58e5b62c013"
   }
  }
 },
 "nbformat": 4,
 "nbformat_minor": 2
}
