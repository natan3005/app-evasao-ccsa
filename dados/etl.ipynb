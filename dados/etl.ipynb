{
 "cells": [
  {
   "cell_type": "code",
   "execution_count": 33,
   "metadata": {},
   "outputs": [],
   "source": [
    "import glob \n",
    "from pandas import read_csv, concat, DataFrame, __version__\n",
    "\n",
    "#diretório\n",
    "input_dir = r\"C:\\Users\\Natan\\Documents\\TPAD2\\dados\""
   ]
  },
  {
   "cell_type": "markdown",
   "metadata": {},
   "source": [
    "##### **Listando os arquivos** #####"
   ]
  },
  {
   "cell_type": "code",
   "execution_count": 34,
   "metadata": {},
   "outputs": [],
   "source": [
    "arquivos_ies = glob.glob(r\"C:\\Users\\Natan\\Documents\\TPAD2\\dados/*IES*.CSV\")\n",
    "arquivos_cursos = glob.glob(r\"C:\\Users\\Natan\\Documents\\TPAD2\\dados/*Cadastro_Cursos*.CSV\")"
   ]
  },
  {
   "cell_type": "markdown",
   "metadata": {},
   "source": [
    "##### **Filtrando colunas** #####"
   ]
  },
  {
   "cell_type": "code",
   "execution_count": 35,
   "metadata": {},
   "outputs": [],
   "source": [
    "colunas_ies = ['CO_IES','SG_IES','TP_CATEGORIA_ADMINISTRATIVA','TP_ORGANIZACAO_ACADEMICA']\n",
    "\n",
    "#Diurno\n",
    "colunas_cadastro = ['NU_ANO_CENSO','SG_UF','CO_IES','QT_ING_DIURNO','QT_CONC_DIURNO','TP_ORGANIZACAO_ACADEMICA','TP_CATEGORIA_ADMINISTRATIVA','NO_CINE_ROTULO']\n",
    "#Noturno\n",
    "colunas_cadastro_noturno = ['NU_ANO_CENSO','SG_UF','CO_IES','QT_ING_NOTURNO','QT_CONC_NOTURNO','TP_ORGANIZACAO_ACADEMICA','TP_CATEGORIA_ADMINISTRATIVA','NO_CINE_ROTULO']"
   ]
  },
  {
   "cell_type": "markdown",
   "metadata": {},
   "source": [
    "##### **Leitura dos dados e Correção de tipagem** #####"
   ]
  },
  {
   "cell_type": "code",
   "execution_count": 36,
   "metadata": {},
   "outputs": [],
   "source": [
    "#Arquivos da cadastro cursos - Diurno\n",
    "tabela_cadastro = []\n",
    "\n",
    "for arquivo in arquivos_cursos:\n",
    "    tabela_cadastro.append(read_csv(arquivo, sep=';', encoding='ISO 8859-1',usecols=colunas_cadastro)\n",
    "    .rename(columns = {'NU_ANO_CENSO':'ano'})\n",
    "    .query('TP_ORGANIZACAO_ACADEMICA==1 & TP_CATEGORIA_ADMINISTRATIVA==1')\n",
    "    .groupby(['ano', 'CO_IES','NO_CINE_ROTULO']).agg(\n",
    "        ingressantes_diurno = ('QT_ING_DIURNO', 'sum'),\n",
    "        concluintes_diurno =('QT_CONC_DIURNO', 'sum')\n",
    "        #nome_curso=('NO_CINE_ROTULO','max'))\n",
    "    ))\n",
    "\n",
    "cdd = concat(tabela_cadastro).reset_index()\n",
    "\n",
    "#Convertendo p/ inteiros\n",
    "cdd['ingressantes_diurno'] = cdd['ingressantes_diurno'].astype(int)\n",
    "cdd['concluintes_diurno'] = cdd['concluintes_diurno'].astype(int)\n",
    "\n",
    "#Arquivos da cadastro ies \n",
    "tabela_ies = []\n",
    "\n",
    "for arquivo in arquivos_ies:\n",
    "    tabela_ies.append(read_csv(arquivo, sep=';', encoding='ISO 8859-1',usecols=colunas_ies)\n",
    "    .query('TP_ORGANIZACAO_ACADEMICA==1 & TP_CATEGORIA_ADMINISTRATIVA==1')\n",
    "    )\n",
    "\n",
    "ies = concat(tabela_ies)\n",
    "\n",
    "####################################################################\n",
    "\n",
    "#Arquivos da cadastro cursos - Noturno\n",
    "tabela_cadastro_noturno = []\n",
    "\n",
    "for arquivo2 in arquivos_cursos:\n",
    "    tabela_cadastro_noturno.append(read_csv(arquivo2, sep=';', encoding='ISO 8859-1',usecols=colunas_cadastro_noturno)\n",
    "    .rename(columns = {'NU_ANO_CENSO':'ano'})\n",
    "    .query('TP_ORGANIZACAO_ACADEMICA==1 & TP_CATEGORIA_ADMINISTRATIVA==1')\n",
    "    .groupby(['ano', 'CO_IES','NO_CINE_ROTULO']).agg(ingressantes_noturno = ('QT_ING_NOTURNO', 'sum'), concluintes_noturno =('QT_CONC_NOTURNO', 'sum'))\n",
    "    )\n",
    "\n",
    "cdn = concat(tabela_cadastro_noturno).reset_index()\n",
    "\n",
    "#Convertendo p/ inteiros\n",
    "cdn['ingressantes_noturno'] = cdn['ingressantes_noturno'].astype(int)\n",
    "cdn['concluintes_noturno'] = cdn['concluintes_noturno'].astype(int)"
   ]
  },
  {
   "cell_type": "markdown",
   "metadata": {},
   "source": [
    "##### **Agrupando os dados por curso e ano, nessa ordem (apenas UFPB)** #####"
   ]
  },
  {
   "cell_type": "code",
   "execution_count": 37,
   "metadata": {},
   "outputs": [],
   "source": [
    "####################################################################\n",
    "\n",
    "#Evasão - Diurno *dfd = dataframe diurno\n",
    "dfd = ies.merge(cdd, on='CO_IES', how='inner')\n",
    "dfd = dfd.loc[dfd['SG_IES']=='UFPB']\n",
    "\n",
    "dfd = (dfd\n",
    ".groupby(['NO_CINE_ROTULO','ano']).agg(\n",
    "    ingressantes=('ingressantes_diurno','max'),\n",
    "    concluintes=('concluintes_diurno','max')\n",
    ").reset_index())\n",
    "\n",
    "####################################################################\n",
    "\n",
    "#Evasão - Noturno *dfn = dataframe noturno\n",
    "dfn = ies.merge(cdn, on='CO_IES', how='inner')\n",
    "dfn = dfn.loc[dfn['SG_IES']=='UFPB']\n",
    "\n",
    "dfn = (dfn\n",
    ".groupby(['NO_CINE_ROTULO','ano']).agg(\n",
    "    ingressantes=('ingressantes_noturno','max'),\n",
    "    concluintes=('concluintes_noturno','max')\n",
    ").reset_index())"
   ]
  },
  {
   "cell_type": "markdown",
   "metadata": {},
   "source": [
    "##### **Função p/ consultar cursos** #####"
   ]
  },
  {
   "cell_type": "code",
   "execution_count": 38,
   "metadata": {},
   "outputs": [],
   "source": [
    "def consulta_curso():\n",
    "    curso = str(input('Digite o nome do curso: '))\n",
    "    turno = str(input('Digite o turno: '))\n",
    "    #df = DataFrame\n",
    "    #df2 = DataFrame\n",
    "    \n",
    "    if turno == 'diurno':\n",
    "        df = DataFrame\n",
    "        df = (dfd.loc[dfd['NO_CINE_ROTULO']==curso]\n",
    "        .groupby(['NO_CINE_ROTULO','ano']).agg(\n",
    "        ingressantes=('ingressantes','max'),\n",
    "        concluintes=('concluintes','max')\n",
    "        ).assign(evasão = lambda x: (1-(x.concluintes/x.ingressantes.shift(5)))*100)\n",
    "        .reset_index())\n",
    "        df['turno'] = 'diurno'\n",
    "        return df.loc[df['ano']>2014]\n",
    "        \n",
    "    elif turno == 'noturno':\n",
    "        df = DataFrame\n",
    "        df = (dfn.loc[dfn['NO_CINE_ROTULO']==curso]\n",
    "        .groupby(['NO_CINE_ROTULO','ano']).agg(\n",
    "        ingressantes=('ingressantes','max'),\n",
    "        concluintes=('concluintes','max')\n",
    "        ).assign(evasão = lambda x: (1-(x.concluintes/x.ingressantes.shift(5)))*100)\n",
    "        .reset_index())\n",
    "        df['turno'] = 'noturno'\n",
    "        return df.loc[df['ano']>2014]\n",
    "\n",
    "    else:\n",
    "        df = (dfd.loc[dfd['NO_CINE_ROTULO']==curso]\n",
    "        .groupby(['NO_CINE_ROTULO','ano']).agg(\n",
    "        ingressantes=('ingressantes','max'),\n",
    "        concluintes=('concluintes','max')\n",
    "        ).assign(evasão = lambda x: (1-(x.concluintes/x.ingressantes.shift(5)))*100)\n",
    "        .reset_index())\n",
    "        df['turno'] = 'diurno'\n",
    "    \n",
    "        df2 = (dfn.loc[dfn['NO_CINE_ROTULO']==curso]\n",
    "        .groupby(['NO_CINE_ROTULO','ano']).agg(\n",
    "        ingressantes=('ingressantes','max'),\n",
    "        concluintes=('concluintes','max')\n",
    "        ).assign(evasão = lambda x: (1-(x.concluintes/x.ingressantes.shift(5)))*100)\n",
    "        .reset_index())\n",
    "        df2['turno'] = 'noturno'\n",
    "        df3 = concat([df,df2])\n",
    "        return df3.dropna()"
   ]
  },
  {
   "cell_type": "code",
   "execution_count": 39,
   "metadata": {},
   "outputs": [],
   "source": [
    "g = consulta_curso()\n",
    "r = consulta_curso()\n",
    "e = consulta_curso()\n",
    "a = consulta_curso()\n",
    "l = consulta_curso()\n",
    "i = consulta_curso()\n",
    "s = consulta_curso()\n",
    "h = consulta_curso()"
   ]
  },
  {
   "cell_type": "code",
   "execution_count": 40,
   "metadata": {},
   "outputs": [],
   "source": [
    "cursos = concat([g,r,e,a,l,i,s,h])\n",
    "cursos.drop(index=5, inplace=True)\n",
    "ccsa = cursos.filter(items=['NO_CINE_ROTULO','ano','ingressantes','evasão','turno'])\n",
    "#ccsa.clip(lower=0, upper=100)\n",
    "ccsa.to_excel('ccsa.xlsx')"
   ]
  },
  {
   "cell_type": "code",
   "execution_count": 1,
   "metadata": {},
   "outputs": [
    {
     "ename": "NameError",
     "evalue": "name 'pd' is not defined",
     "output_type": "error",
     "traceback": [
      "\u001b[1;31m---------------------------------------------------------------------------\u001b[0m",
      "\u001b[1;31mNameError\u001b[0m                                 Traceback (most recent call last)",
      "Cell \u001b[1;32mIn[1], line 1\u001b[0m\n\u001b[1;32m----> 1\u001b[0m pd\u001b[39m.\u001b[39m__version__\n",
      "\u001b[1;31mNameError\u001b[0m: name 'pd' is not defined"
     ]
    }
   ],
   "source": [
    "pd.__version__"
   ]
  },
  {
   "cell_type": "code",
   "execution_count": null,
   "metadata": {},
   "outputs": [],
   "source": []
  }
 ],
 "metadata": {
  "kernelspec": {
   "display_name": "Python 3.11.1 64-bit",
   "language": "python",
   "name": "python3"
  },
  "language_info": {
   "codemirror_mode": {
    "name": "ipython",
    "version": 3
   },
   "file_extension": ".py",
   "mimetype": "text/x-python",
   "name": "python",
   "nbconvert_exporter": "python",
   "pygments_lexer": "ipython3",
   "version": "3.11.1"
  },
  "orig_nbformat": 4,
  "vscode": {
   "interpreter": {
    "hash": "0358158b1028aa15f19f28051d896ffd5082ab24d7b98afca8fca58e5b62c013"
   }
  }
 },
 "nbformat": 4,
 "nbformat_minor": 2
}
